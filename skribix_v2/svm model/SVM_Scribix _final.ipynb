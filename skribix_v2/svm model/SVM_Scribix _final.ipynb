{
  "nbformat": 4,
  "nbformat_minor": 0,
  "metadata": {
    "colab": {
      "provenance": []
    },
    "kernelspec": {
      "name": "python3",
      "display_name": "Python 3"
    },
    "language_info": {
      "name": "python"
    }
  },
  "cells": [
    {
      "cell_type": "code",
      "source": [
        "import numpy as np\n",
        "import pandas as pd\n",
        "from sklearn.svm import SVC\n",
        "from sklearn.model_selection import train_test_split\n",
        "from sklearn.metrics import classification_report, accuracy_score\n",
        "from sklearn.preprocessing import StandardScaler\n",
        "from sklearn.impute import SimpleImputer # Import SimpleImputer\n",
        "\n",
        "# Load features and labels from edge_hog.csv\n",
        "# Assuming the first column is the label and the rest are features\n",
        "data = pd.read_csv('edge_hog_features.csv', header=None)\n",
        "labels = data.iloc[:, 0].values  # First column as labels\n",
        "features = data.iloc[:, 1:].values  # Remaining columns as features\n",
        "\n",
        "# Ensure labels are of the same data type (convert to strings or integers as needed)\n",
        "labels = labels.astype(str)  # Convert all labels to strings (or use .astype(int) if they should be integers)\n",
        "\n",
        "# Filter out classes with fewer than 2 samples\n",
        "label_counts = pd.Series(labels).value_counts()\n",
        "valid_labels = label_counts[label_counts >= 2].index\n",
        "filtered_indices = [i for i, label in enumerate(labels) if label in valid_labels]\n",
        "features = features[filtered_indices]\n",
        "labels = labels[filtered_indices]\n",
        "\n",
        "# Impute missing values using the mean strategy\n",
        "imputer = SimpleImputer(strategy='mean') # Create an imputer instance\n",
        "features = imputer.fit_transform(features) # Fit and transform the features\n",
        "\n",
        "# Normalize the features with StandardScaler\n",
        "scaler = StandardScaler()\n",
        "features = scaler.fit_transform(features)\n",
        "\n",
        "# Split the data into training and testing sets (80% train, 20% test)\n",
        "X_train, X_test, y_train, y_test = train_test_split(features, labels, test_size=0.2, random_state=42, stratify=labels)\n",
        "\n",
        "# Initialize the SVM classifier\n",
        "svm_model = SVC(kernel='linear', C=1.0, random_state=42)\n",
        "\n",
        "# Train the SVM model\n",
        "svm_model.fit(X_train, y_train)\n",
        "\n",
        "# Make predictions on the test set\n",
        "y_pred = svm_model.predict(X_test)\n",
        "\n",
        "# Evaluate the model\n",
        "print(\"Classification Report:\")\n",
        "print(classification_report(y_test, y_pred))\n",
        "\n",
        "print(\"Accuracy Score:\")\n",
        "print(accuracy_score(y_test, y_pred))"
      ],
      "metadata": {
        "colab": {
          "base_uri": "https://localhost:8080/"
        },
        "id": "2omUw1Fs-cMK",
        "outputId": "dccca1dd-0452-4f5c-fcd1-672ad1d02355"
      },
      "execution_count": 13,
      "outputs": [
        {
          "output_type": "stream",
          "name": "stderr",
          "text": [
            "<ipython-input-13-c1e85bf56ab3>:11: DtypeWarning: Columns (0) have mixed types. Specify dtype option on import or set low_memory=False.\n",
            "  data = pd.read_csv('edge_hog_features.csv', header=None)\n"
          ]
        },
        {
          "output_type": "stream",
          "name": "stdout",
          "text": [
            "Classification Report:\n",
            "              precision    recall  f1-score   support\n",
            "\n",
            "           0       0.77      0.62      0.69        16\n",
            "           1       0.74      0.88      0.80        16\n",
            "          10       0.70      0.88      0.78        16\n",
            "          11       0.70      0.70      0.70        10\n",
            "           2       1.00      0.69      0.81        16\n",
            "           3       1.00      0.81      0.90        16\n",
            "           4       0.75      0.75      0.75        16\n",
            "           5       0.93      0.88      0.90        16\n",
            "           6       0.88      0.94      0.91        16\n",
            "           7       0.82      0.88      0.85        16\n",
            "           8       0.87      0.81      0.84        16\n",
            "           9       0.65      0.81      0.72        16\n",
            "\n",
            "    accuracy                           0.81       186\n",
            "   macro avg       0.82      0.80      0.80       186\n",
            "weighted avg       0.82      0.81      0.81       186\n",
            "\n",
            "Accuracy Score:\n",
            "0.8064516129032258\n"
          ]
        }
      ]
    }
  ]
}