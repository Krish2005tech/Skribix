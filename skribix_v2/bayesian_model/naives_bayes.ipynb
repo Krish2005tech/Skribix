{
 "cells": [
  {
   "cell_type": "code",
   "execution_count": 14,
   "id": "db3f5ce7",
   "metadata": {},
   "outputs": [],
   "source": [
    "import numpy as np\n",
    "from sklearn.model_selection import train_test_split\n",
    "from sklearn.preprocessing import StandardScaler\n",
    "from tensorflow.keras.utils import to_categorical\n"
   ]
  },
  {
   "cell_type": "code",
   "execution_count": 4,
   "id": "d1f0f660",
   "metadata": {},
   "outputs": [],
   "source": [
    "# Load features and labels\n",
    "features = np.load('../feature extraction/image_features.npy')  # shape: (num_images, 500)\n",
    "labels = np.load('../feature extraction/image_labels.npy')        # shape: (num_images,)\n",
    "\n",
    "# Normalize the features with StandardScaler\n",
    "scaler = StandardScaler()\n",
    "features = scaler.fit_transform(features)\n",
    "\n",
    "# Assuming labels are integers from 0 to (num_categories-1).\n",
    "num_classes = len(np.unique(labels))\n",
    "\n",
    "# Convert labels to one-hot encoding\n",
    "labels_categorical = to_categorical(labels, num_classes=num_classes)"
   ]
  },
  {
   "cell_type": "code",
   "execution_count": null,
   "id": "5dc1a693",
   "metadata": {},
   "outputs": [
    {
     "name": "stdout",
     "output_type": "stream",
     "text": [
      "Train Accuracy: 0.9240\n",
      "Test Accuracy: 0.5875\n"
     ]
    }
   ],
   "source": [
    "import numpy as np\n",
    "from scipy.stats import norm\n",
    "from sklearn.model_selection import train_test_split\n",
    "from sklearn.preprocessing import StandardScaler\n",
    "from tensorflow.keras.utils import to_categorical\n",
    "\n",
    "# Load features and labels\n",
    "features = np.load('../feature extraction/image_features.npy')  # shape: (num_images, 500)\n",
    "labels = np.load('../feature extraction/image_labels.npy')      # shape: (num_images,)\n",
    "\n",
    "# Normalize the features\n",
    "scaler = StandardScaler()\n",
    "features_scaled = scaler.fit_transform(features)\n",
    "\n",
    "# Convert labels to one-hot encoding if needed later\n",
    "num_classes = len(np.unique(labels))\n",
    "labels_categorical = to_categorical(labels, num_classes=num_classes)\n",
    "\n",
    "# PCA Implementation\n",
    "def compute_pca(X, variance_retained=0.95):\n",
    "    X_mean = X - np.mean(X, axis=0)\n",
    "    covariance_matrix = np.cov(X_mean, rowvar=False)\n",
    "    eigenvalues, eigenvectors = np.linalg.eigh(covariance_matrix)\n",
    "    sorted_indices = np.argsort(eigenvalues)[::-1]\n",
    "    eigenvalues = eigenvalues[sorted_indices]\n",
    "    eigenvectors = eigenvectors[:, sorted_indices]\n",
    "    cumulative_variance = np.cumsum(eigenvalues) / np.sum(eigenvalues)\n",
    "    num_components = np.argmax(cumulative_variance >= variance_retained) + 1\n",
    "    principal_components = eigenvectors[:, :num_components]\n",
    "    X_pca = np.dot(X_mean, principal_components)\n",
    "    return X_pca, principal_components\n",
    "\n",
    "# Naïve Bayes Implementation\n",
    "class NaiveBayes:\n",
    "    def fit(self, X, y):\n",
    "        self.classes = np.unique(y)\n",
    "        self.means = {}\n",
    "        self.stds = {}\n",
    "        self.priors = {}\n",
    "        for cls in self.classes:\n",
    "            X_cls = X[y == cls]\n",
    "            self.means[cls] = np.mean(X_cls, axis=0)\n",
    "            self.stds[cls] = np.std(X_cls, axis=0) + 1e-6  # Avoid division by zero\n",
    "            self.priors[cls] = X_cls.shape[0] / X.shape[0]\n",
    "    \n",
    "    def predict(self, X):\n",
    "        predictions = []\n",
    "        for x in X:\n",
    "            posteriors = []\n",
    "            for cls in self.classes:\n",
    "                prior = np.log(self.priors[cls])\n",
    "                likelihood = np.sum(norm.logpdf(x, self.means[cls], self.stds[cls]))\n",
    "                posteriors.append(prior + likelihood)\n",
    "            predictions.append(self.classes[np.argmax(posteriors)])\n",
    "        return np.array(predictions)\n",
    "\n",
    "# Apply PCA\n",
    "features_pca, _ = compute_pca(features_scaled, variance_retained=0.95)\n",
    "\n",
    "# Split into train-test sets (80:20)\n",
    "X_train, X_test, y_train, y_test = train_test_split(features_pca, labels, test_size=0.2, random_state=42, stratify=labels)\n",
    "\n",
    "# Train and evaluate Naïve Bayes model\n",
    "nb_model = NaiveBayes()\n",
    "nb_model.fit(X_train, y_train)\n",
    "\n",
    "y_train_pred = nb_model.predict(X_train)\n",
    "y_test_pred = nb_model.predict(X_test)\n",
    "\n",
    "\n"
   ]
  },
  {
   "cell_type": "code",
   "execution_count": 13,
   "id": "0d98272e",
   "metadata": {},
   "outputs": [
    {
     "name": "stdout",
     "output_type": "stream",
     "text": [
      "Train Accuracy: 0.9240\n",
      "Test Accuracy: 0.5875\n"
     ]
    }
   ],
   "source": [
    "from sklearn.metrics import accuracy_score, classification_report\n",
    "# Calculate accuracy and classification report\n",
    "train_accuracy = accuracy_score(y_train, y_train_pred)\n",
    "X_test_accuracy = accuracy_score(y_test, y_test_pred)\n",
    "test_report = classification_report(y_test, y_test_pred, output_dict=True)\n",
    "\n",
    "print(f\"Train Accuracy: {train_accuracy:.4f}\")\n",
    "print(f\"Test Accuracy: {X_test_accuracy:.4f}\")"
   ]
  }
 ],
 "metadata": {
  "kernelspec": {
   "display_name": "ABC",
   "language": "python",
   "name": "python3"
  },
  "language_info": {
   "codemirror_mode": {
    "name": "ipython",
    "version": 3
   },
   "file_extension": ".py",
   "mimetype": "text/x-python",
   "name": "python",
   "nbconvert_exporter": "python",
   "pygments_lexer": "ipython3",
   "version": "3.10.14"
  }
 },
 "nbformat": 4,
 "nbformat_minor": 5
}
