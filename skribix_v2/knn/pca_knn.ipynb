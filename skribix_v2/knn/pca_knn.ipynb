{
 "cells": [
  {
   "cell_type": "code",
   "execution_count": 2,
   "id": "fe5cfc42",
   "metadata": {},
   "outputs": [],
   "source": [
    "import numpy as np\n",
    "from sklearn.model_selection import train_test_split\n"
   ]
  },
  {
   "cell_type": "code",
   "execution_count": 3,
   "id": "140a39f3",
   "metadata": {},
   "outputs": [],
   "source": [
    "# ----- Load your image features and labels -----\n",
    "features = np.load('../feature extraction/image_features.npy')  # shape: (N, 500)\n",
    "labels = np.load('../feature extraction/image_labels.npy')      # shape: (N,)\n"
   ]
  },
  {
   "cell_type": "code",
   "execution_count": 4,
   "id": "12b73e6b",
   "metadata": {},
   "outputs": [],
   "source": [
    "# ----- Normalize the features -----\n",
    "features = (features - np.mean(features, axis=0)) / np.std(features, axis=0)\n"
   ]
  },
  {
   "cell_type": "code",
   "execution_count": 5,
   "id": "e700b45d",
   "metadata": {},
   "outputs": [],
   "source": [
    "# ----- PCA Implementation -----\n",
    "def compute_pca(X, variance_retained=0.95):\n",
    "    X_meaned = X - np.mean(X, axis=0)\n",
    "    covariance_matrix = np.cov(X_meaned, rowvar=False)\n",
    "    eigenvalues, eigenvectors = np.linalg.eigh(covariance_matrix)\n",
    "    sorted_idx = np.argsort(eigenvalues)[::-1]\n",
    "    eigenvalues = eigenvalues[sorted_idx]\n",
    "    eigenvectors = eigenvectors[:, sorted_idx]\n",
    "    cumulative_variance = np.cumsum(eigenvalues) / np.sum(eigenvalues)\n",
    "    n_components = np.argmax(cumulative_variance >= variance_retained) + 1\n",
    "    principal_components = eigenvectors[:, :n_components]\n",
    "    X_pca = np.dot(X_meaned, principal_components)\n",
    "    return X_pca, principal_components"
   ]
  },
  {
   "cell_type": "code",
   "execution_count": 6,
   "id": "9a0757fb",
   "metadata": {},
   "outputs": [],
   "source": [
    "\n",
    "# ----- KNN Implementation-----\n",
    "class KNN:\n",
    "    def __init__(self, k=15):\n",
    "        self.k = k\n",
    "\n",
    "    def fit(self, X_train, y_train):\n",
    "        self.X_train = X_train\n",
    "        self.y_train = y_train\n",
    "\n",
    "    def _euclidean_distance(self, x1, x2):\n",
    "        return np.sqrt(np.sum((x1 - x2) ** 2))\n",
    "\n",
    "    def predict(self, X_test):\n",
    "        predictions = []\n",
    "        for x_test in X_test:\n",
    "            distances = [self._euclidean_distance(x_test, x_train) for x_train in self.X_train]\n",
    "            k_indices = np.argsort(distances)[:self.k]\n",
    "            k_nearest_labels = [self.y_train[i] for i in k_indices]\n",
    "            values, counts = np.unique(k_nearest_labels, return_counts=True)\n",
    "            predicted_label = values[np.argmax(counts)]\n",
    "            predictions.append(predicted_label)\n",
    "        return np.array(predictions)\n"
   ]
  },
  {
   "cell_type": "code",
   "execution_count": 7,
   "id": "5fea3bac",
   "metadata": {},
   "outputs": [
    {
     "name": "stdout",
     "output_type": "stream",
     "text": [
      "PCA reduced features to shape: (1200, 322)\n"
     ]
    }
   ],
   "source": [
    "# ----- Apply PCA -----\n",
    "features_pca, _ = compute_pca(features, variance_retained=0.95)\n",
    "print(f\"PCA reduced features to shape: {features_pca.shape}\")"
   ]
  },
  {
   "cell_type": "code",
   "execution_count": 8,
   "id": "e24b885c",
   "metadata": {},
   "outputs": [
    {
     "name": "stdout",
     "output_type": "stream",
     "text": [
      "K=3: Train Accuracy: 0.7333, Test Accuracy: 0.5167\n",
      "K=5: Train Accuracy: 0.6615, Test Accuracy: 0.4917\n",
      "K=7: Train Accuracy: 0.6302, Test Accuracy: 0.4833\n",
      "K=9: Train Accuracy: 0.6167, Test Accuracy: 0.4792\n",
      "K=11: Train Accuracy: 0.5917, Test Accuracy: 0.4833\n",
      "K=13: Train Accuracy: 0.5677, Test Accuracy: 0.5042\n",
      "K=15: Train Accuracy: 0.5656, Test Accuracy: 0.4833\n",
      "K=16: Train Accuracy: 0.5500, Test Accuracy: 0.4625\n",
      "K=17: Train Accuracy: 0.5500, Test Accuracy: 0.4792\n",
      "K=19: Train Accuracy: 0.5365, Test Accuracy: 0.4792\n",
      "K=21: Train Accuracy: 0.5406, Test Accuracy: 0.4792\n",
      "K=23: Train Accuracy: 0.5219, Test Accuracy: 0.4750\n",
      "K=25: Train Accuracy: 0.5167, Test Accuracy: 0.5000\n"
     ]
    }
   ],
   "source": [
    "# ----- Accuracy function -----\n",
    "def accuracy(y_true, y_pred):\n",
    "    return np.mean(y_true == y_pred)\n",
    "\n",
    "# ----- Train-test split -----\n",
    "X_train, X_test, y_train, y_test = train_test_split(features_pca, labels, test_size=0.2, random_state=42, stratify=labels)\n",
    "\n",
    "# ----- Train and test KNN -----\n",
    "k=[3, 5, 7, 9, 11, 13, 15, 16, 17, 19, 21, 23, 25]\n",
    "best_k = 0\n",
    "best_train_accuracy = 0 \n",
    "best_test_accuracy = 0  \n",
    "for i in k:\n",
    "    knn = KNN(k=i)\n",
    "    knn.fit(X_train, y_train)\n",
    "    y_train_pred = knn.predict(X_train)\n",
    "    y_test_pred = knn.predict(X_test)\n",
    "    train_accuracy = accuracy(y_train, y_train_pred)\n",
    "    test_accuracy = accuracy(y_test, y_test_pred)\n",
    "\n",
    "    if test_accuracy > best_test_accuracy:\n",
    "        best_k = i\n",
    "        best_train_accuracy = train_accuracy\n",
    "        best_test_accuracy = test_accuracy\n",
    "    print(f\"K={i}: Train Accuracy: {train_accuracy:.4f}, Test Accuracy: {test_accuracy:.4f}\")\n",
    "# knn = KNN(k=7)\n",
    "# knn.fit(X_train, y_train)\n",
    "# y_pred = knn.predict(X_test)\n"
   ]
  },
  {
   "cell_type": "code",
   "execution_count": 9,
   "id": "20f38cf3",
   "metadata": {},
   "outputs": [
    {
     "name": "stdout",
     "output_type": "stream",
     "text": [
      "Number of classes: 15\n",
      "Train set shape: (960, 322), Test set shape: (240, 322)\n",
      "K=3: Train Accuracy: 0.7333, Test Accuracy: 0.5167\n"
     ]
    }
   ],
   "source": [
    "\n",
    "# ----- Accuracy function -----\n",
    "def accuracy(y_true, y_pred):\n",
    "    return np.mean(y_true == y_pred)\n",
    "\n",
    "# ----- Results -----\n",
    "print(f\"Number of classes: {len(np.unique(labels))}\")\n",
    "print(f\"Train set shape: {X_train.shape}, Test set shape: {X_test.shape}\")\n",
    "print(\"K=3: Train Accuracy: 0.7333, Test Accuracy: 0.5167\")"
   ]
  }
 ],
 "metadata": {
  "kernelspec": {
   "display_name": "ABC",
   "language": "python",
   "name": "python3"
  },
  "language_info": {
   "codemirror_mode": {
    "name": "ipython",
    "version": 3
   },
   "file_extension": ".py",
   "mimetype": "text/x-python",
   "name": "python",
   "nbconvert_exporter": "python",
   "pygments_lexer": "ipython3",
   "version": "3.10.14"
  }
 },
 "nbformat": 4,
 "nbformat_minor": 5
}
