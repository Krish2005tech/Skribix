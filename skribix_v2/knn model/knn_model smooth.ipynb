{
 "cells": [
  {
   "cell_type": "markdown",
   "metadata": {},
   "source": [
    "# Imports"
   ]
  },
  {
   "cell_type": "code",
   "execution_count": 41,
   "metadata": {},
   "outputs": [
    {
     "name": "stdout",
     "output_type": "stream",
     "text": [
      "Requirement already satisfied: tensorflow in c:\\users\\jyoti\\appdata\\local\\programs\\python\\python312\\lib\\site-packages (2.17.0)Note: you may need to restart the kernel to use updated packages.\n",
      "\n",
      "Requirement already satisfied: tensorflow-intel==2.17.0 in c:\\users\\jyoti\\appdata\\local\\programs\\python\\python312\\lib\\site-packages (from tensorflow) (2.17.0)\n",
      "Requirement already satisfied: absl-py>=1.0.0 in c:\\users\\jyoti\\appdata\\local\\programs\\python\\python312\\lib\\site-packages (from tensorflow-intel==2.17.0->tensorflow) (2.1.0)\n",
      "Requirement already satisfied: astunparse>=1.6.0 in c:\\users\\jyoti\\appdata\\local\\programs\\python\\python312\\lib\\site-packages (from tensorflow-intel==2.17.0->tensorflow) (1.6.3)\n",
      "Requirement already satisfied: flatbuffers>=24.3.25 in c:\\users\\jyoti\\appdata\\local\\programs\\python\\python312\\lib\\site-packages (from tensorflow-intel==2.17.0->tensorflow) (24.3.25)\n",
      "Requirement already satisfied: gast!=0.5.0,!=0.5.1,!=0.5.2,>=0.2.1 in c:\\users\\jyoti\\appdata\\local\\programs\\python\\python312\\lib\\site-packages (from tensorflow-intel==2.17.0->tensorflow) (0.6.0)\n",
      "Requirement already satisfied: google-pasta>=0.1.1 in c:\\users\\jyoti\\appdata\\local\\programs\\python\\python312\\lib\\site-packages (from tensorflow-intel==2.17.0->tensorflow) (0.2.0)\n",
      "Requirement already satisfied: h5py>=3.10.0 in c:\\users\\jyoti\\appdata\\local\\programs\\python\\python312\\lib\\site-packages (from tensorflow-intel==2.17.0->tensorflow) (3.11.0)\n",
      "Requirement already satisfied: libclang>=13.0.0 in c:\\users\\jyoti\\appdata\\local\\programs\\python\\python312\\lib\\site-packages (from tensorflow-intel==2.17.0->tensorflow) (18.1.1)\n",
      "Requirement already satisfied: ml-dtypes<0.5.0,>=0.3.1 in c:\\users\\jyoti\\appdata\\local\\programs\\python\\python312\\lib\\site-packages (from tensorflow-intel==2.17.0->tensorflow) (0.4.0)\n",
      "Requirement already satisfied: opt-einsum>=2.3.2 in c:\\users\\jyoti\\appdata\\local\\programs\\python\\python312\\lib\\site-packages (from tensorflow-intel==2.17.0->tensorflow) (3.3.0)\n",
      "Requirement already satisfied: packaging in c:\\users\\jyoti\\appdata\\local\\programs\\python\\python312\\lib\\site-packages (from tensorflow-intel==2.17.0->tensorflow) (24.1)\n",
      "Requirement already satisfied: protobuf!=4.21.0,!=4.21.1,!=4.21.2,!=4.21.3,!=4.21.4,!=4.21.5,<5.0.0dev,>=3.20.3 in c:\\users\\jyoti\\appdata\\local\\programs\\python\\python312\\lib\\site-packages (from tensorflow-intel==2.17.0->tensorflow) (4.25.4)\n",
      "Requirement already satisfied: requests<3,>=2.21.0 in c:\\users\\jyoti\\appdata\\local\\programs\\python\\python312\\lib\\site-packages (from tensorflow-intel==2.17.0->tensorflow) (2.32.3)\n",
      "Requirement already satisfied: setuptools in c:\\users\\jyoti\\appdata\\local\\programs\\python\\python312\\lib\\site-packages (from tensorflow-intel==2.17.0->tensorflow) (74.1.0)\n",
      "Requirement already satisfied: six>=1.12.0 in c:\\users\\jyoti\\appdata\\local\\programs\\python\\python312\\lib\\site-packages (from tensorflow-intel==2.17.0->tensorflow) (1.16.0)\n",
      "Requirement already satisfied: termcolor>=1.1.0 in c:\\users\\jyoti\\appdata\\local\\programs\\python\\python312\\lib\\site-packages (from tensorflow-intel==2.17.0->tensorflow) (2.4.0)\n",
      "Requirement already satisfied: typing-extensions>=3.6.6 in c:\\users\\jyoti\\appdata\\local\\programs\\python\\python312\\lib\\site-packages (from tensorflow-intel==2.17.0->tensorflow) (4.12.2)\n",
      "Requirement already satisfied: wrapt>=1.11.0 in c:\\users\\jyoti\\appdata\\local\\programs\\python\\python312\\lib\\site-packages (from tensorflow-intel==2.17.0->tensorflow) (1.16.0)\n",
      "Requirement already satisfied: grpcio<2.0,>=1.24.3 in c:\\users\\jyoti\\appdata\\local\\programs\\python\\python312\\lib\\site-packages (from tensorflow-intel==2.17.0->tensorflow) (1.66.1)\n",
      "Requirement already satisfied: tensorboard<2.18,>=2.17 in c:\\users\\jyoti\\appdata\\local\\programs\\python\\python312\\lib\\site-packages (from tensorflow-intel==2.17.0->tensorflow) (2.17.1)\n",
      "Requirement already satisfied: keras>=3.2.0 in c:\\users\\jyoti\\appdata\\local\\programs\\python\\python312\\lib\\site-packages (from tensorflow-intel==2.17.0->tensorflow) (3.5.0)\n",
      "Requirement already satisfied: numpy<2.0.0,>=1.26.0 in c:\\users\\jyoti\\appdata\\local\\programs\\python\\python312\\lib\\site-packages (from tensorflow-intel==2.17.0->tensorflow) (1.26.4)\n",
      "Requirement already satisfied: wheel<1.0,>=0.23.0 in c:\\users\\jyoti\\appdata\\local\\programs\\python\\python312\\lib\\site-packages (from astunparse>=1.6.0->tensorflow-intel==2.17.0->tensorflow) (0.44.0)\n",
      "Requirement already satisfied: rich in c:\\users\\jyoti\\appdata\\local\\programs\\python\\python312\\lib\\site-packages (from keras>=3.2.0->tensorflow-intel==2.17.0->tensorflow) (13.8.0)\n",
      "Requirement already satisfied: namex in c:\\users\\jyoti\\appdata\\local\\programs\\python\\python312\\lib\\site-packages (from keras>=3.2.0->tensorflow-intel==2.17.0->tensorflow) (0.0.8)\n",
      "Requirement already satisfied: optree in c:\\users\\jyoti\\appdata\\local\\programs\\python\\python312\\lib\\site-packages (from keras>=3.2.0->tensorflow-intel==2.17.0->tensorflow) (0.12.1)\n",
      "Requirement already satisfied: charset-normalizer<4,>=2 in c:\\users\\jyoti\\appdata\\local\\programs\\python\\python312\\lib\\site-packages (from requests<3,>=2.21.0->tensorflow-intel==2.17.0->tensorflow) (2.0.12)\n",
      "Requirement already satisfied: idna<4,>=2.5 in c:\\users\\jyoti\\appdata\\local\\programs\\python\\python312\\lib\\site-packages (from requests<3,>=2.21.0->tensorflow-intel==2.17.0->tensorflow) (3.8)\n",
      "Requirement already satisfied: urllib3<3,>=1.21.1 in c:\\users\\jyoti\\appdata\\local\\programs\\python\\python312\\lib\\site-packages (from requests<3,>=2.21.0->tensorflow-intel==2.17.0->tensorflow) (2.2.2)\n",
      "Requirement already satisfied: certifi>=2017.4.17 in c:\\users\\jyoti\\appdata\\local\\programs\\python\\python312\\lib\\site-packages (from requests<3,>=2.21.0->tensorflow-intel==2.17.0->tensorflow) (2024.8.30)\n",
      "Requirement already satisfied: markdown>=2.6.8 in c:\\users\\jyoti\\appdata\\local\\programs\\python\\python312\\lib\\site-packages (from tensorboard<2.18,>=2.17->tensorflow-intel==2.17.0->tensorflow) (3.7)\n",
      "Requirement already satisfied: tensorboard-data-server<0.8.0,>=0.7.0 in c:\\users\\jyoti\\appdata\\local\\programs\\python\\python312\\lib\\site-packages (from tensorboard<2.18,>=2.17->tensorflow-intel==2.17.0->tensorflow) (0.7.2)\n",
      "Requirement already satisfied: werkzeug>=1.0.1 in c:\\users\\jyoti\\appdata\\local\\programs\\python\\python312\\lib\\site-packages (from tensorboard<2.18,>=2.17->tensorflow-intel==2.17.0->tensorflow) (3.0.4)\n",
      "Requirement already satisfied: MarkupSafe>=2.1.1 in c:\\users\\jyoti\\appdata\\local\\programs\\python\\python312\\lib\\site-packages (from werkzeug>=1.0.1->tensorboard<2.18,>=2.17->tensorflow-intel==2.17.0->tensorflow) (2.1.5)\n",
      "Requirement already satisfied: markdown-it-py>=2.2.0 in c:\\users\\jyoti\\appdata\\local\\programs\\python\\python312\\lib\\site-packages (from rich->keras>=3.2.0->tensorflow-intel==2.17.0->tensorflow) (3.0.0)\n",
      "Requirement already satisfied: pygments<3.0.0,>=2.13.0 in c:\\users\\jyoti\\appdata\\local\\programs\\python\\python312\\lib\\site-packages (from rich->keras>=3.2.0->tensorflow-intel==2.17.0->tensorflow) (2.18.0)\n",
      "Requirement already satisfied: mdurl~=0.1 in c:\\users\\jyoti\\appdata\\local\\programs\\python\\python312\\lib\\site-packages (from markdown-it-py>=2.2.0->rich->keras>=3.2.0->tensorflow-intel==2.17.0->tensorflow) (0.1.2)\n"
     ]
    },
    {
     "name": "stderr",
     "output_type": "stream",
     "text": [
      "\n",
      "[notice] A new release of pip is available: 24.2 -> 25.0.1\n",
      "[notice] To update, run: python.exe -m pip install --upgrade pip\n"
     ]
    }
   ],
   "source": [
    "%pip install tensorflow\n",
    "import numpy as np\n",
    "import matplotlib.pyplot as plt\n",
    "import pandas as pd\n",
    "\n",
    "from sklearn.preprocessing import StandardScaler\n",
    "from sklearn.model_selection import train_test_split\n",
    "from tensorflow.keras.utils import to_categorical"
   ]
  },
  {
   "cell_type": "code",
   "execution_count": 42,
   "metadata": {},
   "outputs": [],
   "source": [
    "import numpy as np\n",
    "from sklearn.preprocessing import StandardScaler\n",
    "\n",
    "def preprocess_data(df, label_col=\"label\"):\n",
    "    \"\"\"\n",
    "    Preprocess the DataFrame:\n",
    "    - Separate labels from features.\n",
    "    - Replace inf/-inf with NaN, fill NaNs with 0.\n",
    "    - Remove columns with zero variance.\n",
    "    - Scale features using StandardScaler.\n",
    "    \"\"\"\n",
    "    y = df[label_col].values\n",
    "    X = df.drop(columns=[label_col]).select_dtypes(include=[np.number])  # Keep numeric features\n",
    "\n",
    "    # Handle NaN and Inf values\n",
    "    X = X.replace([np.inf, -np.inf], np.nan).fillna(0)\n",
    "\n",
    "    # Remove zero-variance features\n",
    "    X = X.loc[:, X.var(axis=0) != 0]\n",
    "\n",
    "    # Scale features\n",
    "    scaler = StandardScaler()\n",
    "    X_scaled = scaler.fit_transform(X)\n",
    "\n",
    "    return X_scaled\n",
    "\n"
   ]
  },
  {
   "cell_type": "code",
   "execution_count": 43,
   "metadata": {},
   "outputs": [],
   "source": [
    "# Load features and labels\n",
    "features = np.load('../feature_extraction_smooth/image_features.npy')  # shape: (num_images, 500)\n",
    "labels = np.load('../feature_extraction_smooth/image_labels.npy')        # shape: (num_images,)\n",
    "\n",
    "\n",
    "\n",
    "\n",
    "\n",
    "\n",
    "# # Normalize the features with StandardScaler\n",
    "# scaler = StandardScaler()\n",
    "# features = scaler.fit_transform(features)\n",
    "\n",
    "# features= preprocess_data(features)\n",
    "\n",
    "# Assuming labels are integers from 0 to (num_categories-1).\n",
    "num_classes = len(np.unique(labels))\n",
    "\n",
    "# Convert labels to one-hot encoding\n",
    "labels_categorical = to_categorical(labels, num_classes=num_classes)"
   ]
  },
  {
   "cell_type": "code",
   "execution_count": 44,
   "metadata": {},
   "outputs": [],
   "source": [
    "# Split into training and test sets (e.g., 80-20 split)\n",
    "X_train, X_test, y_train, y_test = train_test_split(features, labels_categorical, test_size=0.2, stratify=labels, random_state=42)\n"
   ]
  },
  {
   "cell_type": "code",
   "execution_count": 47,
   "metadata": {},
   "outputs": [
    {
     "name": "stdout",
     "output_type": "stream",
     "text": [
      "Initialization 0\n",
      "  Iteration 10\t time lapse 8.18041s\t ll change 0.02686\n",
      "Initialization converged. time lapse 13.05439s\t lower bound 2961.97193.\n",
      "Number of Components: 15\n",
      "GMM Converged: True\n"
     ]
    }
   ],
   "source": [
    "from sklearn.mixture import GaussianMixture\n",
    "\n",
    "# Determine the number of components based on unique labels\n",
    "n_components = num_classes\n",
    "\n",
    "# Apply GMM\n",
    "gmm = GaussianMixture(n_components=n_components, random_state=42, max_iter=100, verbose=2)\n",
    "gmm.fit(X_train)\n",
    "\n",
    "# Print convergence status\n",
    "print(f\"Number of Components: {n_components}\")\n",
    "print(f\"GMM Converged: {gmm.converged_}\")\n",
    "\n",
    "# Assign GMM cluster labels\n",
    "# gmm_labels_train = gmm.predict(X_train)\n",
    "# gmm_labels_test = gmm.predict(X_test)\n",
    "\n",
    "gmm_labels_test = y_test\n",
    "gmm_labels_train = y_train\n"
   ]
  },
  {
   "cell_type": "code",
   "execution_count": 48,
   "metadata": {},
   "outputs": [
    {
     "name": "stderr",
     "output_type": "stream",
     "text": [
      "Training KNN: 100%|██████████| 30/30 [00:00<00:00, 32.08k-value/s]\n"
     ]
    },
    {
     "data": {
      "image/png": "[encoded data removed]",
      "text/plain": [
       "<Figure size 1000x500 with 1 Axes>"
      ]
     },
     "metadata": {},
     "output_type": "display_data"
    },
    {
     "name": "stdout",
     "output_type": "stream",
     "text": [
      "Best k: 1, Best Accuracy: 0.65\n"
     ]
    }
   ],
   "source": [
    "import matplotlib.pyplot as plt\n",
    "from tqdm import tqdm\n",
    "from sklearn.neighbors import KNeighborsClassifier\n",
    "from sklearn.metrics import accuracy_score\n",
    "\n",
    "# Test k values from 1 to 30\n",
    "k_values = range(1, 31)\n",
    "accuracies = []\n",
    "\n",
    "# Train KNN for different k values\n",
    "with tqdm(total=len(k_values), desc=\"Training KNN\", unit=\"k-value\") as pbar:\n",
    "    for k in k_values:\n",
    "        knn = KNeighborsClassifier(n_neighbors=k)\n",
    "        knn.fit(X_train, gmm_labels_train)\n",
    "        y_pred = knn.predict(X_test)\n",
    "        acc = accuracy_score(gmm_labels_test, y_pred)\n",
    "        accuracies.append(acc)\n",
    "        pbar.update(1)\n",
    "\n",
    "# Find the best k\n",
    "best_k = k_values[np.argmax(accuracies)]\n",
    "best_accuracy = max(accuracies)\n",
    "\n",
    "# Plot accuracy vs k\n",
    "plt.figure(figsize=(10, 5))\n",
    "plt.plot(k_values, accuracies, marker='o', linestyle='-', color='b', label=\"Accuracy\")\n",
    "plt.axvline(best_k, color='r', linestyle='--', label=f'Best k = {best_k}')\n",
    "plt.xlabel(\"Number of Neighbors (k)\")\n",
    "plt.ylabel(\"Classification Accuracy\")\n",
    "plt.title(\"KNN Classification Accuracy vs. k\")\n",
    "plt.legend()\n",
    "plt.grid()\n",
    "plt.show()\n",
    "\n",
    "print(f\"Best k: {best_k}, Best Accuracy: {best_accuracy:.2f}\")\n"
   ]
  },
  {
   "cell_type": "code",
   "execution_count": 52,
   "metadata": {},
   "outputs": [
    {
     "name": "stderr",
     "output_type": "stream",
     "text": [
      "Evaluating KNN (Real Labels):   0%|          | 0/30 [00:00<?, ?k-value/s]\n"
     ]
    },
    {
     "ename": "TypeError",
     "evalue": "unhashable type: 'numpy.ndarray'",
     "output_type": "error",
     "traceback": [
      "\u001b[1;31m---------------------------------------------------------------------------\u001b[0m",
      "\u001b[1;31mTypeError\u001b[0m                                 Traceback (most recent call last)",
      "Cell \u001b[1;32mIn[52], line 19\u001b[0m\n\u001b[0;32m     16\u001b[0m     label_mapping[gmm_label] \u001b[38;5;241m=\u001b[39m most_common_label\n\u001b[0;32m     18\u001b[0m \u001b[38;5;66;03m# Convert GMM predictions to original labels\u001b[39;00m\n\u001b[1;32m---> 19\u001b[0m predicted_labels \u001b[38;5;241m=\u001b[39m np\u001b[38;5;241m.\u001b[39marray([\u001b[43mlabel_mapping\u001b[49m\u001b[43m[\u001b[49m\u001b[43mlabel\u001b[49m\u001b[43m]\u001b[49m \u001b[38;5;28;01mfor\u001b[39;00m label \u001b[38;5;129;01min\u001b[39;00m \u001b[38;5;28mlist\u001b[39m(gmm_pred_test)])\n\u001b[0;32m     20\u001b[0m actual_labels_eval \u001b[38;5;241m=\u001b[39m np\u001b[38;5;241m.\u001b[39margmax(y_test, axis\u001b[38;5;241m=\u001b[39m\u001b[38;5;241m1\u001b[39m)\n\u001b[0;32m     21\u001b[0m acc \u001b[38;5;241m=\u001b[39m accuracy_score(actual_labels_eval, predicted_labels)\n",
      "\u001b[1;31mTypeError\u001b[0m: unhashable type: 'numpy.ndarray'"
     ]
    }
   ],
   "source": [
    "k_values = range(1, 31)\n",
    "accuracies_real = []\n",
    "\n",
    "with tqdm(total=len(k_values), desc=\"Evaluating KNN (Real Labels)\", unit=\"k-value\") as pbar:\n",
    "    for k in k_values:\n",
    "        knn = KNeighborsClassifier(n_neighbors=k)\n",
    "        knn.fit(X_train, gmm_labels_train)\n",
    "        gmm_pred_test = knn.predict(X_test)\n",
    "\n",
    "        # Remap GMM labels to original labels\n",
    "        label_mapping = {}\n",
    "        for gmm_label in np.unique(gmm_labels_train):\n",
    "            indices = np.where(gmm_labels_train == gmm_label)[0]\n",
    "            original_labels_subset = labels[indices]\n",
    "            most_common_label = np.bincount(original_labels_subset).argmax()\n",
    "            label_mapping[gmm_label] = most_common_label\n",
    "\n",
    "        # Convert GMM predictions to original labels\n",
    "        predicted_labels = np.array([label_mapping[label] for label in list(gmm_pred_test)])\n",
    "        actual_labels_eval = np.argmax(y_test, axis=1)\n",
    "        acc = accuracy_score(actual_labels_eval, predicted_labels)\n",
    "        accuracies_real.append(acc)\n",
    "\n",
    "        pbar.update(1)\n",
    "\n",
    "# Find best k based on actual label accuracy\n",
    "best_k_real = k_values[np.argmax(accuracies_real)]\n",
    "best_accuracy_real = max(accuracies_real)\n",
    "\n",
    "# Plotting\n",
    "plt.figure(figsize=(10, 5))\n",
    "plt.plot(k_values, accuracies_real, marker='o', linestyle='-', color='g', label=\"Real Label Accuracy\")\n",
    "plt.axvline(best_k_real, color='r', linestyle='--', label=f'Best k = {best_k_real}')\n",
    "plt.xlabel(\"Number of Neighbors (k)\")\n",
    "plt.ylabel(\"Accuracy (Original Labels)\")\n",
    "plt.title(\"KNN Accuracy vs. k (Compared with Original Labels)\")\n",
    "plt.legend()\n",
    "plt.grid()\n",
    "plt.show()\n",
    "\n",
    "print(f\"Best k (Real Labels): {best_k_real}, Best Accuracy (Real Labels): {best_accuracy_real:.2f}\")\n"
   ]
  },
  {
   "cell_type": "code",
   "execution_count": 54,
   "metadata": {},
   "outputs": [
    {
     "name": "stdout",
     "output_type": "stream",
     "text": [
      "Train Accuracy: 1.00\n",
      "Test Accuracy: 0.65\n"
     ]
    }
   ],
   "source": [
    "# Train KNN with the best k\n",
    "best_k=best_k_real\n",
    "knn = KNeighborsClassifier(n_neighbors=best_k)\n",
    "knn.fit(X_train, gmm_labels_train)\n",
    "\n",
    "# Predict on train and test data\n",
    "y_pred_train = knn.predict(X_train)\n",
    "y_pred_test = knn.predict(X_test)\n",
    "\n",
    "# Compute accuracy\n",
    "accuracy_train = accuracy_score(gmm_labels_train, y_pred_train)\n",
    "accuracy_test = accuracy_score(gmm_labels_test, y_pred_test)\n",
    "\n",
    "print(f\"Train Accuracy: {accuracy_train:.2f}\")\n",
    "print(f\"Test Accuracy: {accuracy_test:.2f}\")\n"
   ]
  },
  {
   "cell_type": "code",
   "execution_count": 55,
   "metadata": {},
   "outputs": [
    {
     "name": "stdout",
     "output_type": "stream",
     "text": [
      "Classification Report (Train):\n",
      "              precision    recall  f1-score   support\n",
      "\n",
      "           0       1.00      1.00      1.00        64\n",
      "           1       1.00      1.00      1.00        64\n",
      "           2       1.00      1.00      1.00        64\n",
      "           3       1.00      1.00      1.00        64\n",
      "           4       1.00      1.00      1.00        64\n",
      "           5       1.00      1.00      1.00        64\n",
      "           6       1.00      1.00      1.00        64\n",
      "           7       1.00      1.00      1.00        64\n",
      "           8       1.00      1.00      1.00        64\n",
      "           9       1.00      1.00      1.00        64\n",
      "          10       1.00      1.00      1.00        64\n",
      "          11       1.00      1.00      1.00        64\n",
      "          12       1.00      1.00      1.00        64\n",
      "          13       1.00      1.00      1.00        64\n",
      "          14       1.00      1.00      1.00        64\n",
      "\n",
      "   micro avg       1.00      1.00      1.00       960\n",
      "   macro avg       1.00      1.00      1.00       960\n",
      "weighted avg       1.00      1.00      1.00       960\n",
      " samples avg       1.00      1.00      1.00       960\n",
      "\n",
      "Classification Report (Test):\n",
      "              precision    recall  f1-score   support\n",
      "\n",
      "           0       0.55      0.38      0.44        16\n",
      "           1       0.67      0.38      0.48        16\n",
      "           2       0.42      0.31      0.36        16\n",
      "           3       0.91      0.62      0.74        16\n",
      "           4       0.57      0.50      0.53        16\n",
      "           5       0.94      0.94      0.94        16\n",
      "           6       0.50      0.50      0.50        16\n",
      "           7       0.60      0.56      0.58        16\n",
      "           8       0.73      0.69      0.71        16\n",
      "           9       0.68      0.81      0.74        16\n",
      "          10       0.86      0.75      0.80        16\n",
      "          11       0.61      0.88      0.72        16\n",
      "          12       0.55      0.69      0.61        16\n",
      "          13       0.63      0.75      0.69        16\n",
      "          14       0.58      0.94      0.71        16\n",
      "\n",
      "   micro avg       0.65      0.65      0.65       240\n",
      "   macro avg       0.65      0.65      0.64       240\n",
      "weighted avg       0.65      0.65      0.64       240\n",
      " samples avg       0.65      0.65      0.65       240\n",
      "\n"
     ]
    }
   ],
   "source": [
    "#print classification report\n",
    "from sklearn.metrics import classification_report\n",
    "print(\"Classification Report (Train):\")\n",
    "print(classification_report(gmm_labels_train, y_pred_train, target_names=[str(i) for i in range(num_classes)]))\n",
    "print(\"Classification Report (Test):\")\n",
    "print(classification_report(gmm_labels_test, y_pred_test, target_names=[str(i) for i in range(num_classes)]))\n"
   ]
  },
  {
   "cell_type": "code",
   "execution_count": 63,
   "metadata": {},
   "outputs": [
    {
     "ename": "TypeError",
     "evalue": "unhashable type: 'numpy.ndarray'",
     "output_type": "error",
     "traceback": [
      "\u001b[1;31m---------------------------------------------------------------------------\u001b[0m",
      "\u001b[1;31mTypeError\u001b[0m                                 Traceback (most recent call last)",
      "Cell \u001b[1;32mIn[63], line 5\u001b[0m\n\u001b[0;32m      2\u001b[0m actual_labels \u001b[38;5;241m=\u001b[39m np\u001b[38;5;241m.\u001b[39margmax(y_test, axis\u001b[38;5;241m=\u001b[39m\u001b[38;5;241m1\u001b[39m)\n\u001b[0;32m      4\u001b[0m \u001b[38;5;66;03m# Map GMM predicted labels back to original labels\u001b[39;00m\n\u001b[1;32m----> 5\u001b[0m predicted_labels \u001b[38;5;241m=\u001b[39m np\u001b[38;5;241m.\u001b[39marray([\u001b[43mlabel_mapping\u001b[49m\u001b[43m[\u001b[49m\u001b[43mlabel\u001b[49m\u001b[43m]\u001b[49m \u001b[38;5;28;01mfor\u001b[39;00m label \u001b[38;5;129;01min\u001b[39;00m y_test])\n\u001b[0;32m      7\u001b[0m \u001b[38;5;66;03m# Print actual vs predicted labels\u001b[39;00m\n\u001b[0;32m      8\u001b[0m \u001b[38;5;28;01mfor\u001b[39;00m actual, predicted \u001b[38;5;129;01min\u001b[39;00m \u001b[38;5;28mzip\u001b[39m(actual_labels, predicted_labels):\n",
      "\u001b[1;31mTypeError\u001b[0m: unhashable type: 'numpy.ndarray'"
     ]
    }
   ],
   "source": [
    "# Convert one-hot encoded labels back to their original class indices\n",
    "actual_labels = np.argmax(y_test, axis=1)\n",
    "\n",
    "# Map GMM predicted labels back to original labels\n",
    "predicted_labels = np.array([label_mapping[label] for label in y_test])\n",
    "\n",
    "# Print actual vs predicted labels\n",
    "for actual, predicted in zip(actual_labels, predicted_labels):\n",
    "    print(f\"Actual: {actual}, Predicted: {predicted}\")\n",
    "\n",
    "# Show the name of the class\n",
    "# Class-wise accuracy\n",
    "from sklearn.metrics import confusion_matrix\n",
    "import seaborn as sns\n",
    "\n",
    "# Compute confusion matrix\n",
    "cm = confusion_matrix(actual_labels, predicted_labels)\n",
    "\n",
    "# Plot confusion matrix\n",
    "plt.figure(figsize=(10, 8))\n",
    "sns.heatmap(cm, annot=True, fmt='d', cmap='Blues', xticklabels=[str(i) for i in range(num_classes)], yticklabels=[str(i) for i in range(num_classes)])\n",
    "plt.title(\"Confusion Matrix\")\n",
    "plt.xlabel(\"Predicted Label\")\n",
    "plt.ylabel(\"True Label\")\n",
    "plt.show()\n",
    "\n"
   ]
  },
  {
   "cell_type": "code",
   "execution_count": 57,
   "metadata": {},
   "outputs": [
    {
     "name": "stdout",
     "output_type": "stream",
     "text": [
      "Loaded Model Train Accuracy: 1.00\n"
     ]
    }
   ],
   "source": [
    "from joblib import dump, load\n",
    "\n",
    "# Save the trained model to a file\n",
    "dump(knn, 'knn_model_smooth.joblib')\n",
    "\n",
    "# Load the trained model from the file\n",
    "loaded_knn = load('knn_model_smooth.joblib')\n",
    "\n",
    "# Predict using the loaded model\n",
    "y_pred_loaded_train = loaded_knn.predict(X_train)\n",
    "accuracy_score_loaded_train = accuracy_score(gmm_labels_train, y_pred_loaded_train)\n",
    "print(f\"Loaded Model Train Accuracy: {accuracy_score_loaded_train:.2f}\")\n"
   ]
  },
  {
   "cell_type": "code",
   "execution_count": 58,
   "metadata": {},
   "outputs": [
    {
     "name": "stdout",
     "output_type": "stream",
     "text": [
      "[ 0  0  0 ... 14 14 14]\n",
      "---\n",
      "[[0. 0. 0. ... 0. 0. 0.]\n",
      " [0. 0. 0. ... 0. 0. 0.]\n",
      " [0. 0. 0. ... 0. 0. 0.]\n",
      " ...\n",
      " [1. 0. 0. ... 0. 0. 0.]\n",
      " [0. 0. 0. ... 0. 0. 0.]\n",
      " [0. 0. 1. ... 0. 0. 0.]]\n"
     ]
    }
   ],
   "source": [
    "print(labels)\n",
    "print(\"---\")\n",
    "print(gmm_labels_train)"
   ]
  },
  {
   "cell_type": "code",
   "execution_count": 59,
   "metadata": {},
   "outputs": [
    {
     "ename": "TypeError",
     "evalue": "unhashable type: 'numpy.ndarray'",
     "output_type": "error",
     "traceback": [
      "\u001b[1;31m---------------------------------------------------------------------------\u001b[0m",
      "\u001b[1;31mTypeError\u001b[0m                                 Traceback (most recent call last)",
      "Cell \u001b[1;32mIn[59], line 19\u001b[0m\n\u001b[0;32m     16\u001b[0m     label_mapping[gmm_label] \u001b[38;5;241m=\u001b[39m most_common_label\n\u001b[0;32m     18\u001b[0m \u001b[38;5;66;03m# Convert GMM labels to original labels using the mapping\u001b[39;00m\n\u001b[1;32m---> 19\u001b[0m predicted_labels \u001b[38;5;241m=\u001b[39m np\u001b[38;5;241m.\u001b[39marray([\u001b[43mlabel_mapping\u001b[49m\u001b[43m[\u001b[49m\u001b[43mlabel\u001b[49m\u001b[43m]\u001b[49m \u001b[38;5;28;01mfor\u001b[39;00m label \u001b[38;5;129;01min\u001b[39;00m gmm_labels_test])\n\u001b[0;32m     20\u001b[0m \u001b[38;5;28mprint\u001b[39m(\u001b[38;5;124m\"\u001b[39m\u001b[38;5;124mPredicted labels:\u001b[39m\u001b[38;5;124m\"\u001b[39m)\n\u001b[0;32m     21\u001b[0m \u001b[38;5;28mprint\u001b[39m(predicted_labels)\n",
      "\u001b[1;31mTypeError\u001b[0m: unhashable type: 'numpy.ndarray'"
     ]
    }
   ],
   "source": [
    "#y_pred is the predicted labels from the KNN model in gmm_labels_test\n",
    "#i need to convert the predicted labels back to the original labels\n",
    "# Create a mapping from GMM labels to original labels\n",
    "label_mapping = {}\n",
    "for gmm_label in np.unique(gmm_labels_train):\n",
    "    # Get the indices of the samples that belong to this GMM label\n",
    "    indices = np.where(gmm_labels_train == gmm_label)[0]\n",
    "    \n",
    "    # Get the original labels for these samples\n",
    "    original_labels = labels[indices]\n",
    "    \n",
    "    # Find the most common original label for this GMM label\n",
    "    most_common_label = np.bincount(original_labels).argmax()\n",
    "    \n",
    "    # Map the GMM label to the most common original label\n",
    "    label_mapping[gmm_label] = most_common_label\n",
    "\n",
    "# Convert GMM labels to original labels using the mapping\n",
    "predicted_labels = np.array([label_mapping[label] for label in gmm_labels_test])\n",
    "print(\"Predicted labels:\")\n",
    "print(predicted_labels)"
   ]
  },
  {
   "cell_type": "code",
   "execution_count": null,
   "metadata": {},
   "outputs": [],
   "source": [
    "actual_labels = np.array([label_mapping[label] for label in actual_labels])"
   ]
  },
  {
   "cell_type": "code",
   "execution_count": null,
   "metadata": {},
   "outputs": [],
   "source": [
    "real_accuracy = accuracy_score(actual_labels, predicted_labels)"
   ]
  },
  {
   "cell_type": "code",
   "execution_count": null,
   "metadata": {},
   "outputs": [
    {
     "name": "stdout",
     "output_type": "stream",
     "text": [
      "Real Test Accuracy: 0.11\n"
     ]
    }
   ],
   "source": [
    "print(f\"Real Test Accuracy: {real_accuracy:.2f}\")"
   ]
  },
  {
   "cell_type": "code",
   "execution_count": null,
   "metadata": {},
   "outputs": [],
   "source": [
    "\n"
   ]
  }
 ],
 "metadata": {
  "kernelspec": {
   "display_name": "Python (ml_env)",
   "language": "python",
   "name": "ml_env"
  },
  "language_info": {
   "codemirror_mode": {
    "name": "ipython",
    "version": 3
   },
   "file_extension": ".py",
   "mimetype": "text/x-python",
   "name": "python",
   "nbconvert_exporter": "python",
   "pygments_lexer": "ipython3",
   "version": "3.12.5"
  }
 },
 "nbformat": 4,
 "nbformat_minor": 2
}
