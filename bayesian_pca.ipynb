{
 "cells": [
  {
   "cell_type": "code",
   "execution_count": null,
   "metadata": {},
   "outputs": [],
   "source": [
    "import pandas as pd\n",
    "from sklearn.model_selection import train_test_split\n",
    "from sklearn.preprocessing import StandardScaler\n",
    "\n",
    "# Load features, features are in the second column and onwards, labels are in the first column\n",
    "df = pd.read_csv(\"extracted_features.csv\")\n",
    "\n",
    "# label present in the first column, features pressent in all other columns\n",
    "X = df.iloc[:, 1:].values   \n",
    "y = df.iloc[:, 0].values  \n",
    "\n",
    "# Normalize\n",
    "scaler = StandardScaler()\n",
    "X = scaler.fit_transform(X)\n",
    "\n",
    "# Split into 80:20 train-test set\n",
    "X_train, X_test, y_train, y_test = train_test_split(X, y, test_size=0.2, random_state=42)\n"
   ]
  },
  {
   "cell_type": "code",
   "execution_count": null,
   "metadata": {},
   "outputs": [],
   "source": [
    "import numpy as np\n",
    "from scipy.stats import norm\n",
    "from sklearn.model_selection import train_test_split\n",
    "\n",
    "# PCA Implementation\n",
    "def compute_pca(X, variance_retained=0.95):\n",
    "    # Standardize the data\n",
    "    X_mean = X - np.mean(X, axis=0)\n",
    "    # Compute covariance matrix\n",
    "    covariance_matrix = np.cov(X_mean, rowvar=False)\n",
    "    # Compute eigenvalues and eigenvectors\n",
    "    eigenvalues, eigenvectors = np.linalg.eigh(covariance_matrix)\n",
    "    # Sort eigenvalues and corresponding eigenvectors in descending order\n",
    "    sorted_indices = np.argsort(eigenvalues)[::-1]\n",
    "    eigenvalues = eigenvalues[sorted_indices]\n",
    "    eigenvectors = eigenvectors[:, sorted_indices]\n",
    "\n",
    "    # Compute cumulative variance\n",
    "    cumulative_variance = np.cumsum(eigenvalues) / np.sum(eigenvalues)\n",
    "    \n",
    "    # Find the number of components to keep 95% variance\n",
    "    num_components = np.argmax(cumulative_variance >= variance_retained) + 1\n",
    "    \n",
    "    # Select top components\n",
    "    principal_components = eigenvectors[:, :num_components]\n",
    "    \n",
    "    # Project data\n",
    "    X_pca = np.dot(X_mean, principal_components)\n",
    "    return X_pca, principal_components"
   ]
  },
  {
   "cell_type": "code",
   "execution_count": null,
   "metadata": {},
   "outputs": [],
   "source": [
    "# Naïve Bayes Implementation\n",
    "class NaiveBayes:\n",
    "    def fit(self, X, y):\n",
    "        self.classes = np.unique(y)\n",
    "        self.means = {}\n",
    "        self.stds = {}\n",
    "        self.priors = {}\n",
    "        \n",
    "        for cls in self.classes:\n",
    "            X_cls = X[y == cls]\n",
    "            self.means[cls] = np.mean(X_cls, axis=0)\n",
    "            self.stds[cls] = np.std(X_cls, axis=0) + 1e-6  # Avoid division by zero, hence add a small constant\n",
    "            # Calculate prior probability\n",
    "            self.priors[cls] = X_cls.shape[0] / X.shape[0]\n",
    "    \n",
    "    def predict(self, X):\n",
    "        predictions = []\n",
    "        for x in X:\n",
    "            posteriors = []\n",
    "            for cls in self.classes:\n",
    "                prior = np.log(self.priors[cls])\n",
    "                likelihood = np.sum(norm.logpdf(x, self.means[cls], self.stds[cls]))\n",
    "                posteriors.append(prior + likelihood)\n",
    "            predictions.append(self.classes[np.argmax(posteriors)])\n",
    "        return np.array(predictions)\n"
   ]
  },
  {
   "cell_type": "code",
   "execution_count": 9,
   "metadata": {},
   "outputs": [
    {
     "name": "stdout",
     "output_type": "stream",
     "text": [
      "PCA + Naïve Bayes Train Accuracy: 0.6625\n",
      "PCA + Naïve Bayes Test Accuracy: 0.5500\n"
     ]
    }
   ],
   "source": [
    "# Example dataset (Replace with actual scaled dataset)\n",
    "np.random.seed(42)\n",
    "X_scaled = np.random.rand(100, 5)  # 100 samples, 5 features\n",
    "y_encoded = np.random.randint(0, 2, 100)  # Binary classification\n",
    "\n",
    "# Apply PCA\n",
    "X_pca, _ = compute_pca(X_scaled, variance_retained=0.95)\n",
    "\n",
    "# Split dataset\n",
    "X_train, X_test, y_train, y_test = train_test_split(X_pca, y_encoded, test_size=0.2, random_state=42, stratify=y_encoded)\n",
    "\n",
    "# Train Naïve Bayes Model\n",
    "nb_model = NaiveBayes()\n",
    "nb_model.fit(X_train, y_train)\n",
    "\n",
    "# Predict\n",
    "y_train_pred = nb_model.predict(X_train)\n",
    "y_test_pred = nb_model.predict(X_test)\n",
    "\n",
    "# Calculate accuracy\n",
    "def accuracy(y_true, y_pred):\n",
    "    return np.mean(y_true == y_pred)\n",
    "\n",
    "accuracy_train = accuracy(y_train, y_train_pred)\n",
    "accuracy_test = accuracy(y_test, y_test_pred)\n",
    "\n",
    "print(f\"PCA + Naïve Bayes Train Accuracy: {accuracy_train:.4f}\")\n",
    "print(f\"PCA + Naïve Bayes Test Accuracy: {accuracy_test:.4f}\")"
   ]
  },
  {
   "cell_type": "code",
   "execution_count": 16,
   "metadata": {},
   "outputs": [
    {
     "name": "stdout",
     "output_type": "stream",
     "text": [
      "PCA + Naïve Bayes Train Accuracy: 0.7030\n",
      "PCA + Naïve Bayes Test Accuracy: 0.4557\n"
     ]
    }
   ],
   "source": [
    "from sklearn.decomposition import PCA\n",
    "\n",
    "# Apply PCA to reduce dimensions while keeping 95% variance\n",
    "pca = PCA(n_components=0.95)  \n",
    "X_pca = pca.fit_transform(X_scaled)\n",
    "\n",
    "# Split data again\n",
    "X_train, X_test, y_train, y_test = train_test_split(X_pca, y_encoded, test_size=0.2, random_state=42, stratify=y_encoded)\n",
    "\n",
    "# Train Naïve Bayes Model\n",
    "nb_model = GaussianNB()\n",
    "nb_model.fit(X_train, y_train)\n",
    "\n",
    "# Predict\n",
    "y_pred = nb_model.predict(X_test)\n",
    "\n",
    "# Evaluate\n",
    "from sklearn.metrics import accuracy_score\n",
    "\n",
    "# Predict on training data\n",
    "y_train_pred = nb_model.predict(X_train)\n",
    "\n",
    "# Predict on test data\n",
    "y_test_pred = nb_model.predict(X_test)\n",
    "\n",
    "# Calculate accuracy\n",
    "accuracy_train = accuracy_score(y_train, y_train_pred)\n",
    "accuracy_test = accuracy_score(y_test, y_test_pred)\n",
    "\n",
    "print(f\"PCA + Naïve Bayes Train Accuracy: {accuracy_train:.4f}\")\n",
    "print(f\"PCA + Naïve Bayes Test Accuracy: {accuracy_test:.4f}\")\n"
   ]
  }
 ],
 "metadata": {
  "kernelspec": {
   "display_name": "ABC",
   "language": "python",
   "name": "python3"
  },
  "language_info": {
   "codemirror_mode": {
    "name": "ipython",
    "version": 3
   },
   "file_extension": ".py",
   "mimetype": "text/x-python",
   "name": "python",
   "nbconvert_exporter": "python",
   "pygments_lexer": "ipython3",
   "version": "3.10.14"
  }
 },
 "nbformat": 4,
 "nbformat_minor": 2
}
